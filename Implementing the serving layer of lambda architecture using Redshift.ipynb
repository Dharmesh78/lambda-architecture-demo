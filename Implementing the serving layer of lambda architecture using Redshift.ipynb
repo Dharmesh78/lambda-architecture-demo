{
 "cells": [
  {
   "cell_type": "markdown",
   "metadata": {},
   "source": [
    "# Implementing the serving layer of lambda architecture using Redshift\n",
    "\n",
    "### Purpose:\n",
    "- merge the output of speed and batch layer aggregations\n",
    "- achieve this by: \n",
    "    - every couple of hours run the re-computation\n",
    "    - use the output of batch layer as base table\n",
    "    - upsert the up-to-date values of speed layer into the base table \n",
    "\n",
    "### Contents: \n",
    "- [Creating the serving layer](#1)"
   ]
  },
  {
   "cell_type": "markdown",
   "metadata": {},
   "source": [
    "### Requirements"
   ]
  },
  {
   "cell_type": "code",
   "execution_count": 1,
   "metadata": {},
   "outputs": [],
   "source": [
    "import psycopg2"
   ]
  },
  {
   "cell_type": "markdown",
   "metadata": {},
   "source": [
    "<a id=\"1\"></a>\n",
    "### Creating the serving layer\n",
    "- authenticate and create a connection using psycopg module\n",
    "- create and populate a temporary table with it's base being batch layer and upserting the speed layer\n",
    "- drop the current serving layer and use the above mentioned temporary table for serving layer (no downtime)"
   ]
  },
  {
   "cell_type": "code",
   "execution_count": 2,
   "metadata": {},
   "outputs": [],
   "source": [
    "config = { 'dbname': 'lambda', \n",
    "           'user':'dorian',\n",
    "           'pwd':'Demo1234',\n",
    "           'host':'data-warehouse.c3glymsgdgty.us-east-1.redshift.amazonaws.com',\n",
    "           'port':'5439'\n",
    "         }\n",
    "conn =  psycopg2.connect(dbname=config['dbname'], host=config['host'], \n",
    "                              port=config['port'], user=config['user'], \n",
    "                              password=config['pwd'])"
   ]
  },
  {
   "cell_type": "code",
   "execution_count": 3,
   "metadata": {},
   "outputs": [],
   "source": [
    "curs = conn.cursor()\n",
    "curs.execute(\"\"\" \n",
    "    DROP TABLE IF EXISTS serving_layer_temp; \n",
    "\n",
    "    SELECT \n",
    "         *\n",
    "    INTO \n",
    "        serving_layer_temp\n",
    "    FROM \n",
    "        batch_layer ;\n",
    "\n",
    "\n",
    "\n",
    "    UPDATE \n",
    "        serving_layer_temp\n",
    "    SET\n",
    "        count_id = count_id + speed_layer.\"count(id)\",\n",
    "        sum_followers_count = sum_followers_count + speed_layer.\"sum(followers_count)\",\n",
    "        sum_favorite_count = sum_favorite_count + speed_layer.\"sum(favorite_count)\",\n",
    "        sum_retweet_count = sum_retweet_count + speed_layer.\"sum(retweet_count)\"\n",
    "    FROM\n",
    "        speed_layer\n",
    "    WHERE \n",
    "        serving_layer_temp.location = speed_layer.location ;\n",
    "\n",
    "\n",
    "\n",
    "    INSERT INTO \n",
    "        serving_layer_temp\n",
    "    SELECT \n",
    "        * \n",
    "    FROM \n",
    "        speed_layer\n",
    "    WHERE \n",
    "        speed_layer.location \n",
    "    NOT IN (\n",
    "        SELECT \n",
    "            DISTINCT location \n",
    "        FROM \n",
    "            serving_layer_temp \n",
    "    ) ;\n",
    "    \n",
    "    \n",
    "    drop table serving_layer ;\n",
    "    \n",
    "    alter table serving_layer_temp rename to serving_layer ;        \n",
    "    \n",
    "\"\"\")\n",
    "curs.close()\n",
    "conn.commit()\n",
    "conn.close()"
   ]
  },
  {
   "cell_type": "code",
   "execution_count": null,
   "metadata": {},
   "outputs": [],
   "source": []
  }
 ],
 "metadata": {
  "kernelspec": {
   "display_name": "Python 3",
   "language": "python",
   "name": "python3"
  },
  "language_info": {
   "codemirror_mode": {
    "name": "ipython",
    "version": 3
   },
   "file_extension": ".py",
   "mimetype": "text/x-python",
   "name": "python",
   "nbconvert_exporter": "python",
   "pygments_lexer": "ipython3",
   "version": "3.6.1"
  }
 },
 "nbformat": 4,
 "nbformat_minor": 2
}
